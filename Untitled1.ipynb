{
 "cells": [
  {
   "cell_type": "code",
   "execution_count": 24,
   "metadata": {},
   "outputs": [],
   "source": [
    "import numpy as np\n",
    "import pandas as pd\n",
    "from sklearn.feature_extraction import DictVectorizer\n",
    "from sklearn.svm import SVC\n",
    "from sklearn.model_selection import cross_val_score\n",
    "from sklearn.tree import DecisionTreeClassifier\n",
    "from sklearn.ensemble import RandomForestClassifier\n",
    "from sklearn.linear_model import LogisticRegression\n",
    "from sklearn.naive_bayes import MultinomialNB\n",
    "from sklearn.neighbors import KNeighborsClassifier\n",
    "from sklearn.ensemble import AdaBoostClassifier\n",
    "\n",
    "import warnings\n",
    "\n",
    "warnings.filterwarnings(\"ignore\")"
   ]
  },
  {
   "cell_type": "code",
   "execution_count": 25,
   "metadata": {},
   "outputs": [],
   "source": [
    "# 讀取數據 從Kaggle 下載\n",
    "train_data = pd.read_csv('train.csv')\n",
    "test_data = pd.read_csv('test.csv')\n"
   ]
  },
  {
   "cell_type": "code",
   "execution_count": 26,
   "metadata": {},
   "outputs": [],
   "source": [
    "# 選擇訓練用特徵\n",
    "features = ['Pclass', 'Sex', 'Age', 'SibSp', 'Parch', 'Fare', 'Embarked']\n",
    "x_train = train_data[features]\n",
    "x_test = test_data[features]\n",
    "\n",
    "y_train = train_data['Survived']"
   ]
  },
  {
   "cell_type": "code",
   "execution_count": 27,
   "metadata": {},
   "outputs": [
    {
     "name": "stdout",
     "output_type": "stream",
     "text": [
      "訓練數據訊息：\n",
      "<class 'pandas.core.frame.DataFrame'>\n",
      "RangeIndex: 891 entries, 0 to 890\n",
      "Data columns (total 7 columns):\n",
      "Pclass      891 non-null int64\n",
      "Sex         891 non-null object\n",
      "Age         714 non-null float64\n",
      "SibSp       891 non-null int64\n",
      "Parch       891 non-null int64\n",
      "Fare        891 non-null float64\n",
      "Embarked    889 non-null object\n",
      "dtypes: float64(2), int64(3), object(2)\n",
      "memory usage: 48.8+ KB\n",
      "------------------------------\n",
      "測試數據訊息：\n",
      "<class 'pandas.core.frame.DataFrame'>\n",
      "RangeIndex: 418 entries, 0 to 417\n",
      "Data columns (total 7 columns):\n",
      "Pclass      418 non-null int64\n",
      "Sex         418 non-null object\n",
      "Age         332 non-null float64\n",
      "SibSp       418 non-null int64\n",
      "Parch       418 non-null int64\n",
      "Fare        417 non-null float64\n",
      "Embarked    418 non-null object\n",
      "dtypes: float64(2), int64(3), object(2)\n",
      "memory usage: 22.9+ KB\n"
     ]
    }
   ],
   "source": [
    "# 檢查資料缺失值\n",
    "print ('訓練數據訊息：')\n",
    "x_train.info()\n",
    "print('-'*30)\n",
    "print('測試數據訊息：')\n",
    "x_test.info()"
   ]
  },
  {
   "cell_type": "code",
   "execution_count": 28,
   "metadata": {},
   "outputs": [
    {
     "name": "stdout",
     "output_type": "stream",
     "text": [
      "\n",
      "\n",
      "\n",
      "登录港口信息：\n",
      "S    644\n",
      "C    168\n",
      "Q     77\n",
      "Name: Embarked, dtype: int64\n"
     ]
    }
   ],
   "source": [
    "# 利用登錄最多港口來填充NAN值\n",
    "print ('\\n\\n\\n登录港口信息：')\n",
    "print (x_train['Embarked'].value_counts())\n",
    "x_train['Embarked'].fillna('S', inplace=True)\n",
    "x_test['Embarked'].fillna('S', inplace=True)\n"
   ]
  },
  {
   "cell_type": "code",
   "execution_count": 29,
   "metadata": {},
   "outputs": [],
   "source": [
    "# 用平均年齡來填充年齡的NAN值\n",
    "x_train['Age'].fillna(x_train['Age'].mean(), inplace=True)\n",
    "x_test['Age'].fillna(x_test['Age'].mean(), inplace=True)"
   ]
  },
  {
   "cell_type": "code",
   "execution_count": 30,
   "metadata": {},
   "outputs": [],
   "source": [
    "# 用票價的均值來填充票價的NAN值\n",
    "x_test['Fare'].fillna(x_test['Fare'].mean(), inplace=True)"
   ]
  },
  {
   "cell_type": "code",
   "execution_count": 31,
   "metadata": {},
   "outputs": [],
   "source": [
    "# 將特徵值轉成特徵向量\n",
    "dvec = DictVectorizer(sparse=False)\n",
    "\n",
    "x_train = dvec.fit_transform(x_train.to_dict(orient='record'))\n",
    "x_test = dvec.transform(x_test.to_dict(orient='record'))"
   ]
  },
  {
   "cell_type": "code",
   "execution_count": 32,
   "metadata": {
    "scrolled": true
   },
   "outputs": [
    {
     "name": "stdout",
     "output_type": "stream",
     "text": [
      "\n",
      "\n",
      "\n",
      "特征向量格式\n",
      "['Age', 'Embarked=C', 'Embarked=Q', 'Embarked=S', 'Fare', 'Parch', 'Pclass', 'Sex=female', 'Sex=male', 'SibSp']\n"
     ]
    }
   ],
   "source": [
    "# 印出特徵向量\n",
    "print ('\\n\\n\\n特征向量格式')\n",
    "print (dvec.feature_names_)"
   ]
  },
  {
   "cell_type": "code",
   "execution_count": 33,
   "metadata": {},
   "outputs": [
    {
     "name": "stdout",
     "output_type": "stream",
     "text": [
      "\n",
      "\n",
      "\n",
      "模型验证:\n",
      "SVM acc is 0.7264374077857225\n",
      "DecisionTree acc is 0.7812438996708659\n",
      "RandomForest acc is 0.8082615480649189\n",
      "LogisticRegression acc is 0.795800987402111\n",
      "NaiveBayes acc is 0.6927267052547952\n",
      "KNN acc is 0.7083591533310635\n",
      "AdaBoost acc is 0.8104199296334128\n"
     ]
    }
   ],
   "source": [
    "# 支持向量機\n",
    "svc = SVC()\n",
    "# 決策樹\n",
    "dtc = DecisionTreeClassifier()\n",
    "# 隨機森林\n",
    "rfc = RandomForestClassifier()\n",
    "# 邏輯回歸\n",
    "lr = LogisticRegression()\n",
    "# 貝葉斯\n",
    "nb = MultinomialNB()\n",
    "# K鄰近\n",
    "knn = KNeighborsClassifier()\n",
    "# AdaBoost\n",
    "boost = AdaBoostClassifier()\n",
    "\n",
    "print ('\\n\\n\\n模型验证:')\n",
    "print ('SVM acc is', np.mean(cross_val_score(svc, x_train, y_train, cv=10)))\n",
    "print ('DecisionTree acc is', np.mean(cross_val_score(dtc, x_train, y_train, cv=10)))\n",
    "print ('RandomForest acc is', np.mean(cross_val_score(rfc, x_train, y_train, cv=10)))\n",
    "print ('LogisticRegression acc is', np.mean(cross_val_score(lr, x_train, y_train, cv=10)))\n",
    "print ('NaiveBayes acc is', np.mean(cross_val_score(nb, x_train, y_train, cv=10)))\n",
    "print ('KNN acc is', np.mean(cross_val_score(knn, x_train, y_train, cv=10)))\n",
    "print ('AdaBoost acc is', np.mean(cross_val_score(boost, x_train, y_train, cv=10)))\n",
    "\n",
    "\n"
   ]
  },
  {
   "cell_type": "code",
   "execution_count": 34,
   "metadata": {},
   "outputs": [
    {
     "data": {
      "text/plain": [
       "AdaBoostClassifier(algorithm='SAMME.R', base_estimator=None,\n",
       "          learning_rate=1.0, n_estimators=50, random_state=None)"
      ]
     },
     "execution_count": 34,
     "metadata": {},
     "output_type": "execute_result"
    }
   ],
   "source": [
    "# 訓練\n",
    "boost.fit(x_train, y_train)"
   ]
  },
  {
   "cell_type": "code",
   "execution_count": 35,
   "metadata": {},
   "outputs": [],
   "source": [
    "# 預測\n",
    "y_predict = boost.predict(x_test)"
   ]
  },
  {
   "cell_type": "code",
   "execution_count": 36,
   "metadata": {},
   "outputs": [],
   "source": [
    "# 保存結果\n",
    "result = {'PassengerId': test_data['PassengerId'],\n",
    "          'Survived': y_predict}\n",
    "result = pd.DataFrame(result)\n",
    "result.to_csv('submission.csv',index=False)"
   ]
  },
  {
   "cell_type": "code",
   "execution_count": null,
   "metadata": {},
   "outputs": [],
   "source": []
  },
  {
   "cell_type": "code",
   "execution_count": null,
   "metadata": {},
   "outputs": [],
   "source": []
  },
  {
   "cell_type": "code",
   "execution_count": null,
   "metadata": {},
   "outputs": [],
   "source": []
  },
  {
   "cell_type": "code",
   "execution_count": null,
   "metadata": {},
   "outputs": [],
   "source": []
  }
 ],
 "metadata": {
  "kernelspec": {
   "display_name": "Python 3",
   "language": "python",
   "name": "python3"
  },
  "language_info": {
   "codemirror_mode": {
    "name": "ipython",
    "version": 3
   },
   "file_extension": ".py",
   "mimetype": "text/x-python",
   "name": "python",
   "nbconvert_exporter": "python",
   "pygments_lexer": "ipython3",
   "version": "3.7.3"
  }
 },
 "nbformat": 4,
 "nbformat_minor": 2
}
